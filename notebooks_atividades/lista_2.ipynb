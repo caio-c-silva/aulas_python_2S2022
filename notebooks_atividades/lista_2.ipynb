{
 "cells": [
  {
   "cell_type": "markdown",
   "id": "617da3e8-00ae-4de3-9ad5-9a2c6b845553",
   "metadata": {},
   "source": [
    "# Lista de exercícios\n",
    "\n",
    "[![Open In Colab](https://colab.research.google.com/assets/colab-badge.svg)](https://colab.research.google.com/github/caio-c-silva/aulas_python_2S2022/blob/main/notebooks_atividades/lista_2.ipynb)\n",
    "\n",
    "## Instruções:\n",
    "\n",
    "1. Salve uma cópia do notebook\n",
    "2. Renomeie o notebook no seguinte formato: lista_2_NOME_RA.ipynb\n",
    "3. Preencha a célula abaixo com suas informações\n",
    "4. Resolva os exercícios\n",
    "5. Compartilhe o notebook com o email: caio.csilva1988@gmail.com \n",
    "\n",
    "Não esqueça de mandar uma mensagem de notificação com o seu nome e turma.\n",
    "\n",
    "Somente serão corrigidos notebooks entregues até o prazo deteminado"
   ]
  },
  {
   "cell_type": "markdown",
   "id": "3e843b0b-a3ee-4ad5-9698-17d3a77281e4",
   "metadata": {},
   "source": [
    "**Nome:**\n",
    "\n",
    "**Turma:**\n",
    "\n",
    "**RA:**"
   ]
  },
  {
   "cell_type": "markdown",
   "id": "c3d781dc-27bd-4fbc-9984-5f7e95211845",
   "metadata": {
    "tags": []
   },
   "source": [
    "## Problema 1: \n",
    "\n",
    "Você recebe uma lista com números inteiros positivos onde cada número diferente de zero representa uma coluna com largura igual a 1. Imagine que água é derramada sobre as colunas. Escreva um programa que calcule a área da superfície de água que está armazenada entre as colunas.\n",
    "\n",
    "Dica: Você pode precisar usar as funções `max()` e `min()`."
   ]
  },
  {
   "cell_type": "code",
   "execution_count": null,
   "id": "172a3087-4d6e-4769-8f6c-b4cdea5af6ed",
   "metadata": {},
   "outputs": [],
   "source": [
    "max(3, 10)"
   ]
  },
  {
   "cell_type": "code",
   "execution_count": null,
   "id": "74def5ef-3384-4b18-a8db-c3e79ea36ba8",
   "metadata": {},
   "outputs": [],
   "source": [
    "min(3, 10)"
   ]
  },
  {
   "cell_type": "code",
   "execution_count": null,
   "id": "c6cf9da1-01fa-4d0d-9e48-a770f12ceb4b",
   "metadata": {},
   "outputs": [],
   "source": []
  },
  {
   "cell_type": "markdown",
   "id": "05f13047-67fa-4235-94f7-7bdfdd7751de",
   "metadata": {},
   "source": [
    "## Problema 2: \n",
    "\n",
    "Crie um programa que define se um número interiro é divisível por 3. **Não é permitido** usar nenhum operador de divisão (/, //, %)."
   ]
  },
  {
   "cell_type": "code",
   "execution_count": null,
   "id": "8f387ed1-7bdc-450a-96f7-1ebdb18a9fea",
   "metadata": {},
   "outputs": [],
   "source": []
  },
  {
   "cell_type": "markdown",
   "id": "d380d4e2-9353-4258-810e-73e251419b68",
   "metadata": {
    "tags": []
   },
   "source": [
    "## Problema 3: \n",
    "Você recebe uma lista com números inteiros positivos que representam a quantidade de tempo que uma tarefa demora para ser executada. Apenas uma tarefa pode ser executada por vez, mas as tarefas podem ser executadas em qualquer ordem.\n",
    "\n",
    "O tempo de espera de cada tarefa é definido como a quantidade de tempo que a tarefa precisa esperar antes de sua execução ser iniciada.\n",
    "\n",
    "Escreva um programa que retorna o tempo de espera mínimo para uma lista de atividades."
   ]
  },
  {
   "cell_type": "code",
   "execution_count": null,
   "id": "09b49ed3-4b0f-4a5b-9a48-9a47d272896a",
   "metadata": {},
   "outputs": [],
   "source": []
  },
  {
   "cell_type": "markdown",
   "id": "3f6eb300-f228-4316-bbc1-1d0baa2ca3b4",
   "metadata": {},
   "source": [
    "## Problema 4:\n",
    "\n",
    "Escreva um programa que recebe uma string de letras minúsculas e retorna o índice da primeira letra não repetida.\n",
    "\n",
    "A primeira letra não repetida é a primeira letra da string que ocorre apenas uma vez.\n",
    "\n",
    "Se a string não apresentar nenhuma letra não repetida, o programa deve retornar -1"
   ]
  },
  {
   "cell_type": "code",
   "execution_count": null,
   "id": "dfb4e3d3-c217-40f3-a5b9-698a2289d77a",
   "metadata": {},
   "outputs": [],
   "source": []
  }
 ],
 "metadata": {
  "kernelspec": {
   "display_name": "Python 3 (ipykernel)",
   "language": "python",
   "name": "python3"
  },
  "language_info": {
   "codemirror_mode": {
    "name": "ipython",
    "version": 3
   },
   "file_extension": ".py",
   "mimetype": "text/x-python",
   "name": "python",
   "nbconvert_exporter": "python",
   "pygments_lexer": "ipython3",
   "version": "3.9.12"
  }
 },
 "nbformat": 4,
 "nbformat_minor": 5
}
