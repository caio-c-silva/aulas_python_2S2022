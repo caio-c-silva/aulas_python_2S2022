{
 "cells": [
  {
   "cell_type": "markdown",
   "metadata": {},
   "source": [
    "[![Open In Colab](https://colab.research.google.com/assets/colab-badge.svg)](https://colab.research.google.com/github/caio-c-silva/aulas_python_2S2022/blob/main/notebooks_atividades/Soluções_lista2.ipynb)"
   ]
  },
  {
   "cell_type": "markdown",
   "metadata": {
    "id": "snuY_N5ulx_Z"
   },
   "source": [
    "## Problema 1"
   ]
  },
  {
   "cell_type": "code",
   "execution_count": null,
   "metadata": {
    "id": "0-OEWCRxkLeq"
   },
   "outputs": [],
   "source": [
    "def area_agua(lista_alturas):\n",
    "\n",
    "    if len(lista_alturas) > 0:\n",
    "\n",
    "    \n",
    "        e_max = len(lista_alturas) * [0]\n",
    "        d_max = len(lista_alturas) * [0]\n",
    "    \n",
    "        e_max_value = 0\n",
    "        for i in range(len(lista_alturas)):\n",
    "            e_max[i] = e_max_value\n",
    "            e_max_value = max(e_max_value, lista_alturas[i])\n",
    "            \n",
    "            \n",
    "        d_max_value = 0\n",
    "        for i in range(-1, -(len(lista_alturas)+1), -1):\n",
    "            d_max[i] = d_max_value\n",
    "            d_max_value = max(d_max_value, lista_alturas[i])\n",
    "            \n",
    "           \n",
    "       \n",
    "        area = 0\n",
    "        for idx, value in enumerate(lista_alturas):\n",
    "            altura_minima = min(e_max[idx], d_max[idx])\n",
    "            if value < altura_minima:\n",
    "                area += altura_minima - value\n",
    "                \n",
    "    \n",
    "        return area\n",
    "    return 0"
   ]
  },
  {
   "cell_type": "code",
   "execution_count": null,
   "metadata": {
    "colab": {
     "base_uri": "https://localhost:8080/"
    },
    "id": "zg03FCKClInB",
    "outputId": "43d9512c-3521-46c8-bc0d-290eab388f1a"
   },
   "outputs": [],
   "source": [
    "area_agua([0, 8, 0, 0, 5, 0, 0, 10, 0, 0, 1, 1, 0, 3])"
   ]
  },
  {
   "cell_type": "markdown",
   "metadata": {
    "id": "sPC_u7CTjrr6"
   },
   "source": [
    "\n",
    "\n",
    "## Problema 2\n"
   ]
  },
  {
   "cell_type": "code",
   "execution_count": null,
   "metadata": {
    "id": "LqSwoaq1hNdp"
   },
   "outputs": [],
   "source": [
    "def divisivel_3(num):\n",
    "  num_str = str(num)\n",
    "  while len(num_str) > 1:\n",
    "    soma = 0\n",
    "    for digito in num_str:\n",
    "      soma += int(digito)\n",
    "    num_str = str(soma)\n",
    "  if int(num_str) in [3, 6, 9]:\n",
    "    print('É divisível por 3')\n",
    "  else:\n",
    "    print('Não é divisível por 3')    "
   ]
  },
  {
   "cell_type": "code",
   "execution_count": null,
   "metadata": {
    "colab": {
     "base_uri": "https://localhost:8080/"
    },
    "id": "aO393NiJi__w",
    "outputId": "ae79790c-08e4-4f91-f15c-31467c2165dc"
   },
   "outputs": [],
   "source": [
    "divisivel_3(36984)"
   ]
  },
  {
   "cell_type": "markdown",
   "metadata": {
    "id": "nIYT5gjkpF9B"
   },
   "source": [
    "## Problema 3"
   ]
  },
  {
   "cell_type": "code",
   "execution_count": null,
   "metadata": {
    "id": "h9W_eYM5lgOZ"
   },
   "outputs": [],
   "source": [
    "def tempo_de_espera_minimo(lista_de_esperas):\n",
    "  lista_de_esperas = sorted(lista_de_esperas)\n",
    "\n",
    "  tempo_de_espera_total = 0\n",
    "\n",
    "  for i, tempo_tarefa in enumerate(lista_de_esperas):\n",
    "    tarefas_faltantes = len(lista_de_esperas) - (i +1)\n",
    "    tempo_de_espera_total += tempo_tarefa * tarefas_faltantes\n",
    "\n",
    "  return tempo_de_espera_total"
   ]
  },
  {
   "cell_type": "code",
   "execution_count": null,
   "metadata": {
    "colab": {
     "base_uri": "https://localhost:8080/"
    },
    "id": "307KEd7WqFvQ",
    "outputId": "060cfe81-1fec-41f0-c908-3a862782a40c"
   },
   "outputs": [],
   "source": [
    "tempo_de_espera_minimo([3, 2, 1, 2, 6])"
   ]
  },
  {
   "cell_type": "markdown",
   "metadata": {
    "id": "4GbZ4JETqXtB"
   },
   "source": [
    "## Problema 4"
   ]
  },
  {
   "cell_type": "code",
   "execution_count": null,
   "metadata": {
    "id": "No0aU8TaqZ25"
   },
   "outputs": [],
   "source": [
    "def primeiro_char_nao_repetido(string):\n",
    "\n",
    "  for idx in range(len(string)):\n",
    "    eh_duplicada = False\n",
    "    for idx2 in range(len(string)):\n",
    "      if string[idx] == string[idx2] and idx != idx2:\n",
    "        eh_duplicada = True\n",
    "\n",
    "    if not eh_duplicada:\n",
    "      return idx\n",
    "  return -1"
   ]
  },
  {
   "cell_type": "code",
   "execution_count": null,
   "metadata": {
    "colab": {
     "base_uri": "https://localhost:8080/"
    },
    "id": "-DkxrYzAsteP",
    "outputId": "a7eab840-b4d3-484c-e932-b721e28abc3f"
   },
   "outputs": [],
   "source": [
    "primeiro_char_nao_repetido('abcdcaf')  "
   ]
  }
 ],
 "metadata": {
  "colab": {
   "provenance": []
  },
  "kernelspec": {
   "display_name": "Python 3 (ipykernel)",
   "language": "python",
   "name": "python3"
  },
  "language_info": {
   "codemirror_mode": {
    "name": "ipython",
    "version": 3
   },
   "file_extension": ".py",
   "mimetype": "text/x-python",
   "name": "python",
   "nbconvert_exporter": "python",
   "pygments_lexer": "ipython3",
   "version": "3.9.12"
  }
 },
 "nbformat": 4,
 "nbformat_minor": 4
}
