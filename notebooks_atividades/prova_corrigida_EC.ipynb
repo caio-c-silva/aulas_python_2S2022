{
 "cells": [
  {
   "cell_type": "markdown",
   "metadata": {},
   "source": [
    "## Correção da Prova P1\n",
    "\n",
    "[![Open In Colab](https://colab.research.google.com/assets/colab-badge.svg)](https://colab.research.google.com/github/caio-c-silva/aulas_python_2S2022/blob/main/notebooks_atividades/prova_corrigida_EC.ipynb)\n",
    "\n",
    "Coloque na célula abaixo sua data de nascimento"
   ]
  },
  {
   "cell_type": "code",
   "execution_count": null,
   "metadata": {},
   "outputs": [],
   "source": [
    "from datetime import datetime\n",
    "\n",
    "dob = \"20/10/2004\"    # Data de nascimento do aluno\n",
    "\n",
    "\n",
    "\n",
    "# Converter a data de nascimento para o formato datetime\n",
    "dob_dt = datetime.strptime(dob, '%d/%m/%Y') \n",
    "\n",
    "# Converter dia da prova para o  para o formato datetime\n",
    "dia_prova_dt = datetime.strptime(\"01/09/2022\", '%d/%m/%Y')\n",
    "\n",
    "# cálculo da idade e atribuição à variável idade\n",
    "idade = dia_prova_dt - dob_dt\n",
    "idade = int(idade.days / 365.25)\n",
    "\n",
    "# atribui o dia do nascimento à variável dia\n",
    "dia = dob_dt.day\n",
    "\n",
    "\n",
    "# Atribuir os valores de dia e idade às variáveis x e y\n",
    "x = dia\n",
    "y = idade"
   ]
  },
  {
   "cell_type": "markdown",
   "metadata": {
    "id": "5Z5t3vIKJRcj"
   },
   "source": [
    "## Questão 1"
   ]
  },
  {
   "cell_type": "code",
   "execution_count": null,
   "metadata": {
    "colab": {
     "base_uri": "https://localhost:8080/"
    },
    "id": "QarRB_4_I5S1",
    "outputId": "911338b1-d037-4b41-ed45-be8dc671d932"
   },
   "outputs": [],
   "source": [
    "a = False\n",
    "b = 3.7\n",
    "c = \"Laura\"\n",
    "d = 7\n",
    "e = \"True\"\n",
    "f = 17\n",
    "g = \"17\"\n",
    "h = True\n",
    "i = \"3.14159\"\n",
    "\n",
    "print('1. ', type(a))\n",
    "print('2. ', type(b))\n",
    "print('3. ', type(c))\n",
    "print('4. ', type(d))\n",
    "print('5. ', type(e))\n",
    "print('6. ', type(f))\n",
    "print('7. ', type(g))\n",
    "print('8. ', type(h))\n",
    "print('9. ', type(i))"
   ]
  },
  {
   "cell_type": "markdown",
   "metadata": {
    "id": "lMIeq9oWLhG7"
   },
   "source": [
    "## Questão 2"
   ]
  },
  {
   "cell_type": "code",
   "execution_count": null,
   "metadata": {
    "colab": {
     "base_uri": "https://localhost:8080/"
    },
    "id": "BYpUcynqLoPZ",
    "outputId": "ce429fed-fddf-453b-8cd1-8cf52b04d1b2"
   },
   "outputs": [],
   "source": [
    "print('1. ', int(b))\n",
    "print('2. ', float(f))\n",
    "print('3. ', float(g))\n",
    "#int(i)\n",
    "print('4. ', \"erro\")\n",
    "print('5. ', float(i))\n",
    "print('6. ', int(float(i)))\n",
    "\n"
   ]
  },
  {
   "cell_type": "markdown",
   "metadata": {
    "id": "Plb_z4ZYNonm"
   },
   "source": [
    "## Questão 3"
   ]
  },
  {
   "cell_type": "code",
   "execution_count": null,
   "metadata": {
    "colab": {
     "base_uri": "https://localhost:8080/"
    },
    "id": "gwzJuPtwNl80",
    "outputId": "7850e114-58a3-441a-cd75-ff335a3a4cc2"
   },
   "outputs": [],
   "source": [
    "print('1.', (x-10)**2 + (y//2)) # 1\n",
    "\n",
    "if x == 10:\n",
    "    print('2. ','indefinido')\n",
    "else:\n",
    "    print('2. ',(y % (x-10) - 3) * 10 * (x + y)) # 2\n",
    "\n",
    "\n",
    "\n",
    "\n"
   ]
  },
  {
   "cell_type": "markdown",
   "metadata": {
    "id": "gICUk1S-S-p4"
   },
   "source": [
    "## Questão 4"
   ]
  },
  {
   "cell_type": "code",
   "execution_count": null,
   "metadata": {
    "colab": {
     "base_uri": "https://localhost:8080/"
    },
    "id": "NW-6lkORTEEl",
    "outputId": "a0b487a8-7413-4a7e-cb5c-c93f2953b780"
   },
   "outputs": [],
   "source": [
    "a = True\n",
    "b = False\n",
    "c = True\n",
    "\n",
    "print('1. ', b and c)\n",
    "print('2. ', b or c)\n",
    "print('3. ', not a and b)\n",
    "print('4. ', (a and b) or not c)\n",
    "print('5. ', not b and not(a or c))\n"
   ]
  },
  {
   "cell_type": "markdown",
   "metadata": {
    "id": "pFBYuxKUT-P2"
   },
   "source": [
    "## Questão 5"
   ]
  },
  {
   "cell_type": "code",
   "execution_count": null,
   "metadata": {
    "colab": {
     "base_uri": "https://localhost:8080/"
    },
    "id": "QHuR89KHUDHg",
    "outputId": "8acd37d0-3478-4fb9-ab2a-27e1423b780a"
   },
   "outputs": [],
   "source": [
    "## rodar\n",
    "\n",
    "print('1.', (x-10)**2 == 0 and (y//2) + 1 == 5) \n",
    "\n",
    "print('2. ',((2 * y) % x - 3) < 0 or not (x - y)**2 >= 0) \n",
    "\n"
   ]
  },
  {
   "cell_type": "markdown",
   "metadata": {
    "id": "z1RRsZuuXq4i"
   },
   "source": [
    "## Questão 6"
   ]
  },
  {
   "cell_type": "code",
   "execution_count": null,
   "metadata": {
    "colab": {
     "base_uri": "https://localhost:8080/"
    },
    "id": "XGNDUDSvXuf0",
    "outputId": "d926d1c0-94cc-40a1-bdfd-cc0b7de59b52"
   },
   "outputs": [],
   "source": [
    "alternativas = [['São Paulo', 100000], ['Belo Horizonte', 60000], ['Curitiba', 50000], ['Estação Espacial', 1.99], ['Curitiba', 25000]]\n",
    "\n",
    "for alternativa in alternativas:\n",
    "\n",
    "    local = alternativa[0]\n",
    "    salario = alternativa[1]\n",
    "\n",
    "    if local == 'Estação Espacial':\n",
    "        print('Fui!!!') \n",
    "    elif local == 'São Paulo':\n",
    "        if salario < 100000:\n",
    "            print('De jeito nenhum!')\n",
    "        else:\n",
    "            print('Eu vou')\n",
    "    elif local == 'Curitiba' and salario > 40000:\n",
    "        print('Eu vou')\n",
    "    elif salario > 60000:\n",
    "        print('Eu vou')\n",
    "    else:\n",
    "        print('Não obrigado, eu posso achar algo melhor!')"
   ]
  },
  {
   "cell_type": "markdown",
   "metadata": {
    "id": "tyhH4FZ8aZvc"
   },
   "source": [
    "## Questão 7"
   ]
  },
  {
   "cell_type": "code",
   "execution_count": null,
   "metadata": {
    "colab": {
     "base_uri": "https://localhost:8080/"
    },
    "id": "E7Mis1p4ab_D",
    "outputId": "565bdbaa-75b8-4279-86f6-1b8bc82626af"
   },
   "outputs": [],
   "source": [
    "print(list(range(1, 78)))\n",
    "print(list(range(2, 30, 3)))\n",
    "print(list(range(55, 4, -5)))"
   ]
  },
  {
   "cell_type": "markdown",
   "metadata": {
    "id": "s7kW5VCkbMny"
   },
   "source": [
    "## Questão 9"
   ]
  },
  {
   "cell_type": "code",
   "execution_count": null,
   "metadata": {
    "colab": {
     "base_uri": "https://localhost:8080/"
    },
    "id": "G9dUFKrFbQEg",
    "outputId": "b45960a2-33e2-4fca-dc8b-ca624dea1445"
   },
   "outputs": [],
   "source": [
    "print('1. \\n')\n",
    "\n",
    "divisor = 2\n",
    "for i in range(0, 10, 2):\n",
    "    print(i/divisor)\n",
    "\n",
    "print('\\n 2. \\n')\n",
    "\n",
    "cont = 0\n",
    "expo = 1\n",
    "for num in range(5, 36, 5):\n",
    "    if num % 2 == 0:\n",
    "        cont += 1\n",
    "    elif num % 7 == 0:\n",
    "        expo *= (num/5)**2\n",
    "print(cont)\n",
    "print(expo)"
   ]
  }
 ],
 "metadata": {
  "colab": {
   "collapsed_sections": [],
   "provenance": []
  },
  "kernelspec": {
   "display_name": "Python 3 (ipykernel)",
   "language": "python",
   "name": "python3"
  },
  "language_info": {
   "codemirror_mode": {
    "name": "ipython",
    "version": 3
   },
   "file_extension": ".py",
   "mimetype": "text/x-python",
   "name": "python",
   "nbconvert_exporter": "python",
   "pygments_lexer": "ipython3",
   "version": "3.9.12"
  }
 },
 "nbformat": 4,
 "nbformat_minor": 4
}
