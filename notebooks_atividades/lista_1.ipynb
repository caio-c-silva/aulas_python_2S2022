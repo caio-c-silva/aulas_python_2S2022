{
 "cells": [
  {
   "cell_type": "markdown",
   "id": "617da3e8-00ae-4de3-9ad5-9a2c6b845553",
   "metadata": {},
   "source": [
    "# Lista de exercícios\n",
    "\n",
    "[![Open In Colab](https://colab.research.google.com/assets/colab-badge.svg)](https://colab.research.google.com/github/caio-c-silva/aulas_python_2S2022/blob/main/notebooks_atividades/lista_1.ipynb)\n",
    "\n",
    "## Instruções:\n",
    "\n",
    "1. Salve uma cópia do notebook\n",
    "2. Renomeie o notebook no seguinte formato: lista_1_NOME_RA.ipynb\n",
    "3. Preencha a célula abaixo com suas informações\n",
    "4. Resolva os exercícios\n",
    "5. Compartilhe o notebook com o email: caio.csilva1988@gmail.com \n",
    "\n",
    "Não esqueça de mandar uma mensagem de notificação com o seu nome e turma.\n",
    "\n",
    "Somente serão corrigidos notebooks entregues até o prazo deteminado"
   ]
  },
  {
   "cell_type": "markdown",
   "id": "3e843b0b-a3ee-4ad5-9698-17d3a77281e4",
   "metadata": {},
   "source": [
    "**Nome:**\n",
    "\n",
    "**Turma:**\n",
    "\n",
    "**RA:**"
   ]
  },
  {
   "cell_type": "markdown",
   "id": "c3d781dc-27bd-4fbc-9984-5f7e95211845",
   "metadata": {
    "tags": []
   },
   "source": [
    "## Problema 1: \n",
    "\n",
    "Crie um programa que, baseado na idade do usuário, indica se este pode votar na eleição de 2022 e se o voto é facultativo ou obrigatório."
   ]
  },
  {
   "cell_type": "code",
   "execution_count": null,
   "id": "74def5ef-3384-4b18-a8db-c3e79ea36ba8",
   "metadata": {},
   "outputs": [],
   "source": []
  },
  {
   "cell_type": "markdown",
   "id": "05f13047-67fa-4235-94f7-7bdfdd7751de",
   "metadata": {},
   "source": [
    "## Problema 2: \n",
    "\n",
    "Crie um programa que retorne o útimo dígito de qualquer número inteiro (**Dica:** Use uma das 3 formas de divisão que existem em Python)"
   ]
  },
  {
   "cell_type": "code",
   "execution_count": null,
   "id": "8f387ed1-7bdc-450a-96f7-1ebdb18a9fea",
   "metadata": {},
   "outputs": [],
   "source": []
  },
  {
   "cell_type": "markdown",
   "id": "d380d4e2-9353-4258-810e-73e251419b68",
   "metadata": {
    "tags": []
   },
   "source": [
    "## Problema 3: \n",
    "Escreva um programa para encontrar o maior número de três números com exceção do usuário."
   ]
  },
  {
   "cell_type": "code",
   "execution_count": null,
   "id": "09b49ed3-4b0f-4a5b-9a48-9a47d272896a",
   "metadata": {},
   "outputs": [],
   "source": []
  },
  {
   "cell_type": "markdown",
   "id": "3f6eb300-f228-4316-bbc1-1d0baa2ca3b4",
   "metadata": {},
   "source": [
    "## Problema 4:\n",
    "\n",
    "Escreva um programa que receba a temperatura em graus Celsius da água e verifica em qual estado de fase a água se encontra (considere a pressão ambiente ao nível do mar)"
   ]
  },
  {
   "cell_type": "code",
   "execution_count": null,
   "id": "dfb4e3d3-c217-40f3-a5b9-698a2289d77a",
   "metadata": {},
   "outputs": [],
   "source": []
  },
  {
   "cell_type": "markdown",
   "id": "13c52ed7-3b7d-436a-a3dd-053d1980f7c8",
   "metadata": {},
   "source": [
    "## Problema 5\n",
    "\n",
    "Escreva um programa para verificar se um caractere é vogal ou não."
   ]
  },
  {
   "cell_type": "code",
   "execution_count": null,
   "id": "6be54961-7196-4674-b5ff-9a028eff7db4",
   "metadata": {},
   "outputs": [],
   "source": []
  },
  {
   "cell_type": "markdown",
   "id": "4d9d6a98-5a06-485d-a45e-d5cd142f2919",
   "metadata": {},
   "source": [
    "## Problema 6\n",
    "\n",
    "Uma empresa decidiu conceder bônus ao funcionário de acordo com os seguintes critérios:\n",
    "\n",
    "| Periodo de Tempo de Serviço       | Bonus                                     |\n",
    "|-----------------------------------|--------------------------------------------|\n",
    "| Mais de 10 anos | 10%   |\n",
    "| entre 6 e 10 anos (inclusos) | 8%         |\n",
    "| menos de 6 anos  | 5%             |\n",
    "\n",
    "\n",
    "Pergunte ao usuário seu salário e anos de serviço e imprima o valor líquido do bônus."
   ]
  },
  {
   "cell_type": "code",
   "execution_count": null,
   "id": "f661214b-7f94-479d-bc56-f713b7972f87",
   "metadata": {},
   "outputs": [],
   "source": []
  },
  {
   "cell_type": "markdown",
   "id": "1e6e1646-051b-41b6-a970-8bfd076f8085",
   "metadata": {},
   "source": [
    "## Problema 7\n",
    "\n",
    "Escreva um programa que aceite dois números e operadores matemáticos e execute a operação de acordo.\n",
    "\n",
    "Exemplo:\n",
    "\n",
    "Digite o primeiro número: 7\n",
    "\n",
    "Digite o segundo número: 9\n",
    "\n",
    "Digite o operador: +\n",
    "\n",
    "Sua resposta é: 16"
   ]
  },
  {
   "cell_type": "code",
   "execution_count": null,
   "id": "0431e652-57a9-490b-be97-a893c0b87245",
   "metadata": {},
   "outputs": [],
   "source": []
  },
  {
   "cell_type": "markdown",
   "id": "45cb130e-0428-4c08-882e-b777de37a98c",
   "metadata": {},
   "source": [
    "## Problema 8:\n",
    "\n",
    "Escreva um programa para jogar jokenpô com o computador."
   ]
  },
  {
   "cell_type": "code",
   "execution_count": null,
   "id": "70f059db-570c-49a6-a891-ea0a0521e24a",
   "metadata": {},
   "outputs": [],
   "source": [
    "import random\n",
    "\n",
    "opcoes = ['papel', 'pedra', 'tesoura']\n",
    "\n",
    "escolha_computador = random.choice(opcoes)\n",
    "\n",
    "escolha_computador"
   ]
  },
  {
   "cell_type": "code",
   "execution_count": null,
   "id": "c381fe6c-c476-409f-b448-6868655c6f42",
   "metadata": {},
   "outputs": [],
   "source": []
  }
 ],
 "metadata": {
  "kernelspec": {
   "display_name": "Python 3 (ipykernel)",
   "language": "python",
   "name": "python3"
  },
  "language_info": {
   "codemirror_mode": {
    "name": "ipython",
    "version": 3
   },
   "file_extension": ".py",
   "mimetype": "text/x-python",
   "name": "python",
   "nbconvert_exporter": "python",
   "pygments_lexer": "ipython3",
   "version": "3.9.12"
  }
 },
 "nbformat": 4,
 "nbformat_minor": 5
}
