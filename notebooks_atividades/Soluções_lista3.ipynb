{
 "cells": [
  {
   "cell_type": "markdown",
   "metadata": {},
   "source": [
    "[![Open In Colab](https://colab.research.google.com/assets/colab-badge.svg)](https://colab.research.google.com/github/caio-c-silva/aulas_python_2S2022/blob/main/notebooks_atividades/Soluções_lista3.ipynb)"
   ]
  },
  {
   "cell_type": "markdown",
   "metadata": {
    "id": "snuY_N5ulx_Z"
   },
   "source": [
    "## Problema 1"
   ]
  },
  {
   "cell_type": "code",
   "execution_count": null,
   "metadata": {
    "id": "0-OEWCRxkLeq"
   },
   "outputs": [],
   "source": [
    "def busca_binaria(lista, x):\n",
    "    inferior = 0\n",
    "    superior = len(lista) - 1\n",
    "    meio = (superior + inferior) // 2\n",
    " \n",
    "    while inferior <= superior:\n",
    "\n",
    "         \n",
    "        \n",
    "        if lista[meio] < x:\n",
    "            inferior = meio + 1\n",
    "         \n",
    "        elif lista[meio] > x:\n",
    "            superior = meio - 1\n",
    "        else:\n",
    "            return meio\n",
    "        meio = (superior + inferior) // 2\n",
    " \n",
    "    return -1"
   ]
  },
  {
   "cell_type": "code",
   "execution_count": null,
   "metadata": {
    "colab": {
     "base_uri": "https://localhost:8080/"
    },
    "id": "zg03FCKClInB",
    "outputId": "74e3e210-9e0f-476a-c26b-d6476cda482e"
   },
   "outputs": [],
   "source": [
    "busca_binaria([1, 2, 3, 4, 10], 4)"
   ]
  },
  {
   "cell_type": "markdown",
   "metadata": {
    "id": "sPC_u7CTjrr6"
   },
   "source": [
    "\n",
    "\n",
    "## Problema 2\n"
   ]
  },
  {
   "cell_type": "code",
   "execution_count": null,
   "metadata": {
    "id": "LqSwoaq1hNdp"
   },
   "outputs": [],
   "source": [
    "def dividir(x, y, epsilon): \n",
    "    INF = 100000000000.0   \n",
    "    if y == 0:\n",
    "        return print('não definido')\n",
    " \n",
    "    \n",
    "    inferior = 0\n",
    "    superior = INF\n",
    "        \n",
    "    sinal = 1\n",
    "    if x * y < 0:\n",
    "        sinal = -1\n",
    "     \n",
    "    x = abs(x)\n",
    "    y = abs(y)\n",
    "\n",
    "    meio = (superior + inferior) / 2\n",
    " \n",
    "    while abs(y * meio - x) >= epsilon:\n",
    "\n",
    "      if y * meio <= x:\n",
    "        inferior = meio\n",
    "      else:\n",
    "        superior = meio\n",
    "      meio = (superior + inferior) / 2\n",
    "    \n",
    "    return meio * sinal      "
   ]
  },
  {
   "cell_type": "code",
   "execution_count": null,
   "metadata": {
    "colab": {
     "base_uri": "https://localhost:8080/"
    },
    "id": "aO393NiJi__w",
    "outputId": "70cc75f7-17fb-402a-f750-a07f486d1df8"
   },
   "outputs": [],
   "source": [
    "dividir(7, 2, 0.1)"
   ]
  },
  {
   "cell_type": "markdown",
   "metadata": {
    "id": "nIYT5gjkpF9B"
   },
   "source": [
    "## Problema 3"
   ]
  },
  {
   "cell_type": "code",
   "execution_count": null,
   "metadata": {
    "id": "h9W_eYM5lgOZ"
   },
   "outputs": [],
   "source": [
    "def raiz_quadrada(quadrado, epsilon):\n",
    "\n",
    "  tentativas = 0\n",
    "  inferior = 0\n",
    "  superior = quadrado\n",
    "  chute = (superior + inferior)/2.0\n",
    "  while abs(chute**2 - quadrado) >= epsilon:\n",
    "      if chute**2 < quadrado:\n",
    "        # olha apenas o espaço de busca superior\n",
    "        inferior = chute\n",
    "      else:\n",
    "        # olha apenas o espaço de busca inferior\n",
    "        superior = chute\n",
    "    # o próximo chute é a metade do espaço de busca\n",
    "      chute = (superior + inferior)/2.0\n",
    "      tentativas += 1\n",
    "  print(f'tentativas = {tentativas}')\n",
    "  print(f'{chute} é aproximadamente a raiz quadrada de {quadrado}')"
   ]
  },
  {
   "cell_type": "code",
   "execution_count": null,
   "metadata": {
    "colab": {
     "base_uri": "https://localhost:8080/"
    },
    "id": "307KEd7WqFvQ",
    "outputId": "6878fefa-9c1f-4c25-b603-e121b691f2ad"
   },
   "outputs": [],
   "source": [
    "raiz_quadrada(2, 0.001)"
   ]
  },
  {
   "cell_type": "code",
   "execution_count": null,
   "metadata": {
    "colab": {
     "base_uri": "https://localhost:8080/"
    },
    "id": "rq8BwN2xufDR",
    "outputId": "c2d61778-9834-43b1-a68b-8e4d673f5506"
   },
   "outputs": [],
   "source": [
    "2**0.5"
   ]
  },
  {
   "cell_type": "markdown",
   "metadata": {
    "id": "4GbZ4JETqXtB"
   },
   "source": [
    "## Problema 4"
   ]
  },
  {
   "cell_type": "code",
   "execution_count": null,
   "metadata": {
    "id": "No0aU8TaqZ25"
   },
   "outputs": [],
   "source": [
    "def encontrar_par(lista, k):\n",
    "\n",
    "    lista = sorted(lista)\n",
    "     \n",
    "    i = 0\n",
    "    while i < len(lista):\n",
    "\n",
    "      if busca_binaria(lista, lista[i] - k) >= 0:\n",
    "        print((lista[i], lista[i] - k))\n",
    " \n",
    "      i += 1"
   ]
  },
  {
   "cell_type": "code",
   "execution_count": null,
   "metadata": {
    "colab": {
     "base_uri": "https://localhost:8080/"
    },
    "id": "-DkxrYzAsteP",
    "outputId": "e17f7361-0f17-402d-8f94-186430b5fb08"
   },
   "outputs": [],
   "source": [
    "encontrar_par([1, 5, 4, -2, 6, 2], 3)"
   ]
  }
 ],
 "metadata": {
  "colab": {
   "provenance": []
  },
  "kernelspec": {
   "display_name": "Python 3 (ipykernel)",
   "language": "python",
   "name": "python3"
  },
  "language_info": {
   "codemirror_mode": {
    "name": "ipython",
    "version": 3
   },
   "file_extension": ".py",
   "mimetype": "text/x-python",
   "name": "python",
   "nbconvert_exporter": "python",
   "pygments_lexer": "ipython3",
   "version": "3.9.12"
  }
 },
 "nbformat": 4,
 "nbformat_minor": 4
}
