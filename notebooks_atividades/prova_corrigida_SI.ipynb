{
 "cells": [
  {
   "cell_type": "markdown",
   "metadata": {},
   "source": [
    "## Correção da Prova P1\n",
    "\n",
    "[![Open In Colab](https://colab.research.google.com/assets/colab-badge.svg)](https://colab.research.google.com/github/caio-c-silva/aulas_python_2S2022/blob/main/notebooks_atividades/prova_corrigida_SI.ipynb)\n",
    "\n",
    "Coloque na célula abaixo sua data de nascimento"
   ]
  },
  {
   "cell_type": "code",
   "execution_count": 12,
   "metadata": {},
   "outputs": [],
   "source": [
    "from datetime import datetime\n",
    "\n",
    "dob = \"20/10/2004\"    # Data de nascimento do aluno\n",
    "\n",
    "\n",
    "\n",
    "# Converter a data de nascimento para o formato datetime\n",
    "dob_dt = datetime.strptime(dob, '%d/%m/%Y') \n",
    "\n",
    "# Converter dia da prova para o  para o formato datetime\n",
    "dia_prova_dt = datetime.strptime(\"31/08/2022\", '%d/%m/%Y')\n",
    "\n",
    "# cálculo da idade e atribuição à variável idade\n",
    "idade = dia_prova_dt - dob_dt\n",
    "idade = int(idade.days / 365.25)\n",
    "\n",
    "# atribui o dia do nascimento à variável dia\n",
    "dia = dob_dt.day\n",
    "\n",
    "\n",
    "# Atribuir os valores de dia e idade às variáveis x e y\n",
    "x = dia\n",
    "y = idade"
   ]
  },
  {
   "cell_type": "markdown",
   "metadata": {
    "id": "5Z5t3vIKJRcj",
    "tags": []
   },
   "source": [
    "## Questão 1"
   ]
  },
  {
   "cell_type": "code",
   "execution_count": 2,
   "metadata": {
    "colab": {
     "base_uri": "https://localhost:8080/"
    },
    "id": "QarRB_4_I5S1",
    "outputId": "e1169d49-2341-4cc2-ec6d-f91a7b4480d0"
   },
   "outputs": [
    {
     "name": "stdout",
     "output_type": "stream",
     "text": [
      "1.  <class 'bool'>\n",
      "2.  <class 'float'>\n",
      "3.  <class 'str'>\n",
      "4.  <class 'int'>\n",
      "5.  <class 'str'>\n",
      "6.  <class 'int'>\n",
      "7.  <class 'str'>\n",
      "8.  <class 'bool'>\n",
      "9.  <class 'str'>\n"
     ]
    }
   ],
   "source": [
    "a = False\n",
    "b = 3.7\n",
    "c = \"Laura\"\n",
    "d = 7\n",
    "e = \"True\"\n",
    "f = 17\n",
    "g = \"17\"\n",
    "h = True\n",
    "i = \"3.14159\"\n",
    "\n",
    "print('1. ', type(a))\n",
    "print('2. ', type(b))\n",
    "print('3. ', type(c))\n",
    "print('4. ', type(d))\n",
    "print('5. ', type(e))\n",
    "print('6. ', type(f))\n",
    "print('7. ', type(g))\n",
    "print('8. ', type(h))\n",
    "print('9. ', type(i))"
   ]
  },
  {
   "cell_type": "markdown",
   "metadata": {
    "id": "lMIeq9oWLhG7"
   },
   "source": [
    "## Questão 2\n",
    "\n",
    "A expressão int(i) resulta em erro"
   ]
  },
  {
   "cell_type": "code",
   "execution_count": 3,
   "metadata": {
    "colab": {
     "base_uri": "https://localhost:8080/"
    },
    "id": "BYpUcynqLoPZ",
    "outputId": "ce429fed-fddf-453b-8cd1-8cf52b04d1b2"
   },
   "outputs": [
    {
     "name": "stdout",
     "output_type": "stream",
     "text": [
      "1.  3\n",
      "2.  17.0\n",
      "3.  17.0\n",
      "4.  erro\n",
      "5.  3.14159\n",
      "6.  3\n"
     ]
    }
   ],
   "source": [
    "print('1. ', int(b))\n",
    "print('2. ', float(f))\n",
    "print('3. ', float(g))\n",
    "#int(i)\n",
    "print('4. ', \"erro\")\n",
    "print('5. ', float(i))\n",
    "print('6. ', int(float(i)))"
   ]
  },
  {
   "cell_type": "markdown",
   "metadata": {
    "id": "Plb_z4ZYNonm"
   },
   "source": [
    "## Questão 3"
   ]
  },
  {
   "cell_type": "code",
   "execution_count": 4,
   "metadata": {
    "colab": {
     "base_uri": "https://localhost:8080/"
    },
    "id": "gwzJuPtwNl80",
    "outputId": "1341f82e-b346-4110-9979-91aeefb0a95c"
   },
   "outputs": [
    {
     "name": "stdout",
     "output_type": "stream",
     "text": [
      "1. 108\n",
      "2.  1480\n"
     ]
    }
   ],
   "source": [
    "print('1.', (x-10)**2 + (y//2)) # 1\n",
    "\n",
    "if x == 10:\n",
    "  print('2. ','indefinido')\n",
    "else:\n",
    "  print('2. ',(y % (x-10) - 3) * 10 * (x + y))\n"
   ]
  },
  {
   "cell_type": "markdown",
   "metadata": {
    "id": "gICUk1S-S-p4"
   },
   "source": [
    "## Questão 4"
   ]
  },
  {
   "cell_type": "code",
   "execution_count": 5,
   "metadata": {
    "colab": {
     "base_uri": "https://localhost:8080/"
    },
    "id": "NW-6lkORTEEl",
    "outputId": "ba2078c8-7a76-4933-e8a1-c767a627cfb6"
   },
   "outputs": [
    {
     "name": "stdout",
     "output_type": "stream",
     "text": [
      "1.  False\n",
      "2.  True\n",
      "3.  True\n",
      "4.  True\n",
      "5.  False\n"
     ]
    }
   ],
   "source": [
    "a = False\n",
    "b = True\n",
    "c = False\n",
    "\n",
    "print('1. ', b and c)\n",
    "print('2. ', b or c)\n",
    "print('3. ', not a and b)\n",
    "print('4. ', (a and b) or not c)\n",
    "print('5. ', not b and not(a or c))"
   ]
  },
  {
   "cell_type": "markdown",
   "metadata": {
    "id": "pFBYuxKUT-P2"
   },
   "source": [
    "## Questão 5"
   ]
  },
  {
   "cell_type": "code",
   "execution_count": 6,
   "metadata": {
    "colab": {
     "base_uri": "https://localhost:8080/"
    },
    "id": "QHuR89KHUDHg",
    "outputId": "1f30f4c6-4a16-41cc-e551-6d7847a60bf7"
   },
   "outputs": [
    {
     "name": "stdout",
     "output_type": "stream",
     "text": [
      "1. False\n",
      "2.  True\n"
     ]
    }
   ],
   "source": [
    "print('1.', (x-10)**2 == 0 and not (y//2) + 1 == 5) \n",
    "\n",
    "print('2. ',((2 * y) % x - 3) < 0 or (x - y)**2 >= 0) "
   ]
  },
  {
   "cell_type": "markdown",
   "metadata": {
    "id": "z1RRsZuuXq4i"
   },
   "source": [
    "## Questão 6"
   ]
  },
  {
   "cell_type": "code",
   "execution_count": 10,
   "metadata": {
    "colab": {
     "base_uri": "https://localhost:8080/"
    },
    "id": "XGNDUDSvXuf0",
    "outputId": "6d59f078-90bf-49cc-b62c-9510f106988f"
   },
   "outputs": [
    {
     "name": "stdout",
     "output_type": "stream",
     "text": [
      "De jeito nenhum!\n",
      "Não obrigado, eu posso achar algo melhor!\n",
      "Eu vou\n",
      "Fui!!!\n",
      "Não obrigado, eu posso achar algo melhor!\n"
     ]
    }
   ],
   "source": [
    "alternativas = [['São Paulo', 50000], ['Belo Horizonte', 50000], ['Curitiba', 50000], ['Estação Espacial', 1.99], ['Curitiba', 25000]]\n",
    "\n",
    "for alternativa in alternativas:\n",
    "\n",
    "    local = alternativa[0]\n",
    "    salario = alternativa[1]\n",
    "\n",
    "    if local == 'Estação Espacial':\n",
    "        print('Fui!!!') \n",
    "    elif local == 'São Paulo':\n",
    "        if salario < 100000:\n",
    "            print('De jeito nenhum!')\n",
    "        else:\n",
    "            print('Eu vou')\n",
    "    elif local == 'Curitiba' and salario > 40000:\n",
    "        print('Eu vou')\n",
    "    elif salario > 60000:\n",
    "        print('Eu vou')\n",
    "    else:\n",
    "        print('Não obrigado, eu posso achar algo melhor!')"
   ]
  },
  {
   "cell_type": "markdown",
   "metadata": {
    "id": "tyhH4FZ8aZvc"
   },
   "source": [
    "## Questão 7"
   ]
  },
  {
   "cell_type": "code",
   "execution_count": null,
   "metadata": {
    "colab": {
     "base_uri": "https://localhost:8080/"
    },
    "id": "E7Mis1p4ab_D",
    "outputId": "ea0e9aa4-6c77-4b57-9c51-fd07b389184c"
   },
   "outputs": [
    {
     "name": "stdout",
     "output_type": "stream",
     "text": [
      "[1, 2, 3, 4, 5, 6, 7, 8, 9, 10, 11, 12, 13, 14, 15, 16, 17, 18, 19, 20, 21, 22, 23, 24, 25, 26, 27, 28, 29, 30, 31, 32, 33, 34, 35, 36, 37, 38, 39, 40, 41, 42, 43, 44, 45, 46, 47, 48, 49, 50, 51, 52, 53, 54, 55, 56, 57, 58, 59, 60, 61, 62, 63, 64, 65, 66, 67, 68, 69, 70, 71, 72, 73, 74, 75, 76, 77, 78, 79, 80, 81]\n",
      "[2, 5, 8, 11, 14, 17, 20, 23, 26]\n",
      "[55, 50, 45, 40, 35, 30, 25, 20, 15, 10, 5]\n"
     ]
    }
   ],
   "source": [
    "print(list(range(1, 82)))\n",
    "print(list(range(2, 27, 3)))\n",
    "print(list(range(55, 4, -5)))"
   ]
  },
  {
   "cell_type": "markdown",
   "metadata": {
    "id": "s7kW5VCkbMny"
   },
   "source": [
    "## Questão 9"
   ]
  },
  {
   "cell_type": "code",
   "execution_count": 11,
   "metadata": {
    "colab": {
     "base_uri": "https://localhost:8080/"
    },
    "id": "G9dUFKrFbQEg",
    "outputId": "e5ab0c44-4669-46eb-e266-ff4b9ec172ec"
   },
   "outputs": [
    {
     "name": "stdout",
     "output_type": "stream",
     "text": [
      "1. \n",
      "\n",
      "0.0\n",
      "1.0\n",
      "2.0\n",
      "3.0\n",
      "4.0\n",
      "\n",
      " 2. \n",
      "\n",
      "4\n",
      "9.0\n"
     ]
    }
   ],
   "source": [
    "print('1. \\n')\n",
    "\n",
    "divisor = 2\n",
    "for i in range(0, 10, 2):\n",
    "  print(i/divisor)\n",
    "\n",
    "print('\\n 2. \\n')\n",
    "\n",
    "cont = 0\n",
    "expo = 1\n",
    "for num in range(0, 31, 5):\n",
    "  if num % 2 == 0:\n",
    "    cont += 1\n",
    "  elif num % 3 == 0:\n",
    "    expo *= (num/5)**2\n",
    "print(cont)\n",
    "print(expo)"
   ]
  }
 ],
 "metadata": {
  "colab": {
   "collapsed_sections": [],
   "provenance": []
  },
  "kernelspec": {
   "display_name": "Python 3 (ipykernel)",
   "language": "python",
   "name": "python3"
  },
  "language_info": {
   "codemirror_mode": {
    "name": "ipython",
    "version": 3
   },
   "file_extension": ".py",
   "mimetype": "text/x-python",
   "name": "python",
   "nbconvert_exporter": "python",
   "pygments_lexer": "ipython3",
   "version": "3.9.12"
  }
 },
 "nbformat": 4,
 "nbformat_minor": 4
}
