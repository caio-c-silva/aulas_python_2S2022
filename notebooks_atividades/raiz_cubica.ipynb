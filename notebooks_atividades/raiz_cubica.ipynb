{
 "cells": [
  {
   "cell_type": "markdown",
   "id": "f6216569-6218-4a7d-a1e5-949e2732790e",
   "metadata": {},
   "source": [
    "### Busca Simples (Guess-and-Check)"
   ]
  },
  {
   "cell_type": "code",
   "execution_count": null,
   "id": "f47fe713-3a6b-4493-a4e2-d11a31c07dd2",
   "metadata": {},
   "outputs": [],
   "source": [
    "cubo = -8\n",
    "#cubo = 8120601\n",
    "\n",
    "tentativas = 1\n",
    "for chute in range(abs(cubo)+1):\n",
    "    \n",
    "   # testar todas as potenciais raízes \n",
    "    if chute**3 >= abs(cubo):\n",
    "        # Não precisa continuar a busca\n",
    "        break\n",
    "    tentativas += 1 \n",
    "if chute**3 != abs(cubo):\n",
    "    print(f'{cubo} não é uma raiz perfeita')\n",
    "else:\n",
    "    if cubo < 0:\n",
    "        chute = -chute\n",
    "    print(f'A raíz cúbica de {cubo} é {chute} e foram necessárias {tentativas} tentativas')"
   ]
  },
  {
   "cell_type": "markdown",
   "id": "44365a94-9f68-4bb4-a8c1-0251589a09da",
   "metadata": {},
   "source": [
    "### Aproximação "
   ]
  },
  {
   "cell_type": "code",
   "execution_count": null,
   "id": "50211cc2-8e03-4917-b4a7-1f8d10f2da9d",
   "metadata": {},
   "outputs": [],
   "source": [
    "#cubo = 9\n",
    "cubo = 8120601\n",
    "#cubo = 10000\n",
    "epsilon = 0.1\n",
    "chute = 0.0\n",
    "incremento = 0.01\n",
    "tentativas = 0\n",
    "\n",
    "while abs(chute**3 - cubo) >= epsilon and chute <= cubo:\n",
    "    chute += incremento\n",
    "    tentativas += 1\n",
    "print(f'tentativas = {tentativas}')\n",
    "if abs(chute**3 - cubo) >= epsilon:\n",
    "    print(f'Não é possível encontrar a raíz cúbica de {cubo} com esses parâmetros')\n",
    "else:\n",
    "    print(f'{chute} é aproximadamente a raíz cúbica de {cubo}')"
   ]
  },
  {
   "cell_type": "code",
   "execution_count": null,
   "id": "e5829746-37fb-45d5-a9f7-b01c6733f712",
   "metadata": {},
   "outputs": [],
   "source": [
    "2.08**3"
   ]
  },
  {
   "cell_type": "markdown",
   "id": "131a6284-f7b7-4b68-bbcd-8f26832c7df3",
   "metadata": {},
   "source": [
    "### Busca Binária"
   ]
  },
  {
   "cell_type": "code",
   "execution_count": null,
   "id": "6829fbf2-df07-4757-8941-4a3946bb8f28",
   "metadata": {},
   "outputs": [],
   "source": [
    "#cubo = 9\n",
    "cubo = 8120601\n",
    "\n",
    "#cubo = 0.25\n",
    "epsilon = 0.01\n",
    "tentativas = 0\n",
    "inferior = 0\n",
    "superior = cubo\n",
    "chute = (superior + inferior)/2.0\n",
    "while abs(chute**3 - cubo) >= epsilon:\n",
    "    if chute**3 < cubo:\n",
    "       # olha apenas o espaço de busca superior\n",
    "       inferior = chute\n",
    "    else:\n",
    "       # olha apenas o espaço de busca inferior\n",
    "       superior = chute\n",
    "   # o próximo chute é a metade do espaço de busca\n",
    "    chute = (superior + inferior)/2.0\n",
    "    tentativas += 1\n",
    "print(f'tentativas = {tentativas}')\n",
    "print(f'{chute} é aproximadamente a raiz cúbica de {cubo}')"
   ]
  }
 ],
 "metadata": {
  "kernelspec": {
   "display_name": "Python 3 (ipykernel)",
   "language": "python",
   "name": "python3"
  },
  "language_info": {
   "codemirror_mode": {
    "name": "ipython",
    "version": 3
   },
   "file_extension": ".py",
   "mimetype": "text/x-python",
   "name": "python",
   "nbconvert_exporter": "python",
   "pygments_lexer": "ipython3",
   "version": "3.9.12"
  }
 },
 "nbformat": 4,
 "nbformat_minor": 5
}
