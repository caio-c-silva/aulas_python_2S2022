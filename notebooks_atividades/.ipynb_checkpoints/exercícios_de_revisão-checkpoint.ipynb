{
 "cells": [
  {
   "cell_type": "markdown",
   "id": "ab4df7ce-a8db-446f-a145-538e898e48e5",
   "metadata": {},
   "source": [
    "## Revisão\n",
    "\n",
    "[![Open In Colab](https://colab.research.google.com/assets/colab-badge.svg)](https://colab.research.google.com/github/caio-c-silva/aulas_python_2S2022/blob/main/notebooks_atividades/exercícios_de_revisão.ipynb)"
   ]
  },
  {
   "cell_type": "markdown",
   "id": "90729985-7111-4518-94c8-48782a57a620",
   "metadata": {},
   "source": [
    "Nos primeiros dois anos, um ano canino é igual a 10.5 anos humanos. Depois disso, cada ano do cão equivale a 4 anos humanos.\n",
    "\n",
    "Crie um programa que pergunte ao usuário a idade do cachorro e retorne a idade do cachorro em anos caninos. "
   ]
  },
  {
   "cell_type": "code",
   "execution_count": null,
   "id": "c33562a5-e3ed-4309-8773-6a3054dba426",
   "metadata": {},
   "outputs": [],
   "source": []
  },
  {
   "cell_type": "markdown",
   "id": "7d5f280c-03d4-4df6-94a8-b401a3a8a027",
   "metadata": {},
   "source": [
    "Escreva um programa para verificar se um triângulo é equilátero, isósceles ou escaleno. \n",
    "\n",
    "Observação:\n",
    " - Um triângulo equilátero é um triângulo em que os três lados são iguais.\n",
    "\n",
    " - Um triângulo escaleno é um triângulo que tem três lados desiguais.\n",
    "\n",
    " - Um triângulo isósceles é um triângulo com (pelo menos) dois lados iguais."
   ]
  },
  {
   "cell_type": "code",
   "execution_count": null,
   "id": "7c29e9f6-7703-431a-9cdf-a1df8b7cda45",
   "metadata": {},
   "outputs": [],
   "source": []
  },
  {
   "cell_type": "markdown",
   "id": "fa8bf61c-fb25-4815-b417-d267ccb3e91a",
   "metadata": {},
   "source": [
    "Escreva um programa em criar a tabuada de um número entre 1 e 10 fornecido pelo usuário."
   ]
  },
  {
   "cell_type": "code",
   "execution_count": null,
   "id": "d3516f1f-41d0-4ba9-bae2-74fd96bfd806",
   "metadata": {},
   "outputs": [],
   "source": []
  },
  {
   "cell_type": "markdown",
   "id": "82818f51-3e11-4a23-83da-2064ab111523",
   "metadata": {},
   "source": [
    "Sabendo que a função cosseno é dada pela seguinte série:\n",
    "\n",
    "$$1 - \\frac{x^2}{2!} + \\frac{x^4}{4!} - \\frac{x^6}{6!} + {...}   $$\n",
    "\n",
    "Crie um programa que aceita um valor de ângulo fornecido pelo usuário e retorna o cosseno desse ângulo."
   ]
  },
  {
   "cell_type": "code",
   "execution_count": null,
   "id": "ce3cd169-64f8-42c1-9a72-5c2565e81a2a",
   "metadata": {},
   "outputs": [],
   "source": []
  }
 ],
 "metadata": {
  "kernelspec": {
   "display_name": "Python 3 (ipykernel)",
   "language": "python",
   "name": "python3"
  },
  "language_info": {
   "codemirror_mode": {
    "name": "ipython",
    "version": 3
   },
   "file_extension": ".py",
   "mimetype": "text/x-python",
   "name": "python",
   "nbconvert_exporter": "python",
   "pygments_lexer": "ipython3",
   "version": "3.9.12"
  }
 },
 "nbformat": 4,
 "nbformat_minor": 5
}
