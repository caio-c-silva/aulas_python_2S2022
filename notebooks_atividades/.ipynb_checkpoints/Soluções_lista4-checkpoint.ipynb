{
 "cells": [
  {
   "cell_type": "markdown",
   "metadata": {},
   "source": [
    "[![Open In Colab](https://colab.research.google.com/assets/colab-badge.svg)](https://colab.research.google.com/github/caio-c-silva/aulas_python_2S2022/blob/main/notebooks_atividades/Soluções_lista4.ipynb)"
   ]
  },
  {
   "cell_type": "markdown",
   "metadata": {
    "id": "snuY_N5ulx_Z"
   },
   "source": [
    "## Problema 1"
   ]
  },
  {
   "cell_type": "code",
   "execution_count": null,
   "metadata": {
    "id": "0-OEWCRxkLeq"
   },
   "outputs": [],
   "source": [
    "def soma_lista(lista):\n",
    "    if len(lista) == 1:\n",
    "        return lista[0]\n",
    "    else:\n",
    "        return lista[0] + soma_lista(lista[1:])"
   ]
  },
  {
   "cell_type": "code",
   "execution_count": null,
   "metadata": {
    "colab": {
     "base_uri": "https://localhost:8080/"
    },
    "id": "zg03FCKClInB",
    "outputId": "70b14ad4-bf6f-4adc-c0db-e2dbaa3cba8e"
   },
   "outputs": [],
   "source": [
    "soma_lista([2, 4, 5, 6, 7])"
   ]
  },
  {
   "cell_type": "markdown",
   "metadata": {
    "id": "sPC_u7CTjrr6"
   },
   "source": [
    "\n",
    "\n",
    "## Problema 2\n"
   ]
  },
  {
   "cell_type": "code",
   "execution_count": null,
   "metadata": {
    "id": "LqSwoaq1hNdp"
   },
   "outputs": [],
   "source": [
    "def fatorial(n):\n",
    "  if n <= 1:\n",
    "    return 1\n",
    "  else:\n",
    "    return n * (fatorial(n - 1))"
   ]
  },
  {
   "cell_type": "code",
   "execution_count": null,
   "metadata": {
    "colab": {
     "base_uri": "https://localhost:8080/"
    },
    "id": "aO393NiJi__w",
    "outputId": "d96a8b1b-85dc-45ab-b8d2-3d33ddec5616"
   },
   "outputs": [],
   "source": [
    "fatorial(5)"
   ]
  },
  {
   "cell_type": "markdown",
   "metadata": {
    "id": "nIYT5gjkpF9B"
   },
   "source": [
    "## Problema 3"
   ]
  },
  {
   "cell_type": "code",
   "execution_count": null,
   "metadata": {
    "id": "h9W_eYM5lgOZ"
   },
   "outputs": [],
   "source": [
    "def fibonacci(n):\n",
    "  if n == 0 or n == 1:\n",
    "    return n\n",
    "  else:\n",
    "    return (fibonacci(n - 1) + (fibonacci(n - 2)))"
   ]
  },
  {
   "cell_type": "code",
   "execution_count": null,
   "metadata": {
    "colab": {
     "base_uri": "https://localhost:8080/"
    },
    "id": "307KEd7WqFvQ",
    "outputId": "5843c28d-34e0-4fc9-921d-e329e04ff00a"
   },
   "outputs": [],
   "source": [
    "fibonacci(10)"
   ]
  },
  {
   "cell_type": "markdown",
   "metadata": {
    "id": "4GbZ4JETqXtB"
   },
   "source": [
    "## Problema 4"
   ]
  },
  {
   "cell_type": "code",
   "execution_count": null,
   "metadata": {
    "id": "No0aU8TaqZ25"
   },
   "outputs": [],
   "source": [
    "def soma_digitos(n):\n",
    "  if n == 0:\n",
    "    return 0\n",
    "  else:\n",
    "    return n % 10 + soma_digitos(n // 10)"
   ]
  },
  {
   "cell_type": "code",
   "execution_count": null,
   "metadata": {
    "colab": {
     "base_uri": "https://localhost:8080/"
    },
    "id": "-DkxrYzAsteP",
    "outputId": "d39b1855-6249-48af-85c1-ca4f4523b757"
   },
   "outputs": [],
   "source": [
    "soma_digitos(25486)"
   ]
  },
  {
   "cell_type": "markdown",
   "metadata": {
    "id": "Zw2F9zy-21eW"
   },
   "source": [
    "## Problema 5"
   ]
  },
  {
   "cell_type": "code",
   "execution_count": null,
   "metadata": {
    "id": "9t8sWgIk23PZ"
   },
   "outputs": [],
   "source": [
    "def busca_binaria(lista, inferior, superior, x):\n",
    " \n",
    "    \n",
    "    if superior >= inferior:\n",
    " \n",
    "        meio = (superior + inferior) // 2 \n",
    "        \n",
    "        if lista[meio] == x:\n",
    "            return meio \n",
    "        \n",
    "        elif lista[meio] > x:\n",
    "            return busca_binaria(lista, inferior, meio - 1, x) \n",
    "        \n",
    "        else:\n",
    "            return busca_binaria(lista, meio + 1, superior, x)\n",
    " \n",
    "    else:\n",
    "        \n",
    "        return -1"
   ]
  },
  {
   "cell_type": "code",
   "execution_count": null,
   "metadata": {
    "colab": {
     "base_uri": "https://localhost:8080/"
    },
    "id": "1hPmlyBz332P",
    "outputId": "b0e5048d-164f-49fa-de92-67fabc732ed7"
   },
   "outputs": [],
   "source": [
    "busca_binaria([1, 5, 7, 12, 35, 49], 0, 3, 12)"
   ]
  }
 ],
 "metadata": {
  "colab": {
   "provenance": []
  },
  "kernelspec": {
   "display_name": "Python 3 (ipykernel)",
   "language": "python",
   "name": "python3"
  },
  "language_info": {
   "codemirror_mode": {
    "name": "ipython",
    "version": 3
   },
   "file_extension": ".py",
   "mimetype": "text/x-python",
   "name": "python",
   "nbconvert_exporter": "python",
   "pygments_lexer": "ipython3",
   "version": "3.9.12"
  }
 },
 "nbformat": 4,
 "nbformat_minor": 4
}
