{
 "cells": [
  {
   "cell_type": "markdown",
   "id": "09caf350-f5ad-48ff-8ebf-15c88e020a9f",
   "metadata": {
    "tags": []
   },
   "source": [
    "# Aula 1-2 - Semântica Básica de Python\n",
    "\n",
    "[![Open In Colab](https://colab.research.google.com/assets/colab-badge.svg)](https://colab.research.google.com/github/caio-c-silva/aulas_python_2S2022/blob/main/notebooks_aulas/aula2-1.ipynb)\n",
    "\n"
   ]
  },
  {
   "cell_type": "markdown",
   "id": "75dd4f53-73e5-4b98-81e0-f5c9171eb6c3",
   "metadata": {},
   "source": [
    "## Atribuições de variáveis\n",
    ".\n",
    "Atribuir variáveis em Python é muito simples. Basta escrever o nome da variável ao esquerdo do sinal (`=`) e atribuir seu valor do lado direito.\n",
    "\n",
    "```python\n",
    "# Atribuir 4 à variável x\n",
    "x = 4\n",
    "```\n",
    "\n",
    "Isso pode parecer simples, mas é necessário entender a maneira como o Python funciona.\n",
    "\n",
    "Em muitas linguagens de programação, as variáveis são consideradas como contêineres ou buckets nos quais você coloca dados.\n",
    "Por exemplo, em C:\n",
    "\n",
    "```C\n",
    "// código C\n",
    "int x = 4;\n",
    "```\n",
    "\n",
    "Essencialmente, define-se um \"espaço de memória\" chamado ``x`` e coloca-se o valor ``4`` nele.\n",
    "\n",
    "Já em Python, define-se um *ponteiro* chamado ``x`` que aponta para algum outro bucket contendo o valor ``4``. Dessa forma, as variáveis em Python apenas apontam para vários objetos e não há a necessidade de \"declarar\" a variável, ou mesmo exigir que a variável sempre aponte para informações do mesmo tipo.\n",
    "\n",
    "Por isso a linguagem Python é caracterizada como *digitação dinâmca*: nomes de variáveis podem apontar para objetos de qualquer tipo.\n",
    "\n",
    "Assim, é possível escrever o seguinte código:"
   ]
  },
  {
   "cell_type": "code",
   "execution_count": 1,
   "id": "6fa691f1-d41c-45d0-b6f0-f86454aa4d99",
   "metadata": {},
   "outputs": [],
   "source": [
    "x = 1         # x é um inteiro\n",
    "x = 'hello'   # agora x é uma string\n",
    "x = [1, 2, 3] # agora é uma lista"
   ]
  },
  {
   "cell_type": "markdown",
   "id": "a8badba9-2b74-49f4-af47-65ab64ac3827",
   "metadata": {},
   "source": [
    "Se tivermos dois nomes de variáveis apontando para o mesmo objeto *mutável*, alterar um também alterará o outro!\n",
    "Por exemplo, vamos criar e modificar uma lista:"
   ]
  },
  {
   "cell_type": "code",
   "execution_count": 2,
   "id": "6151df8e-0a00-4caa-b0f2-7cbdab0a0e17",
   "metadata": {},
   "outputs": [],
   "source": [
    "x = [1, 2, 3]\n",
    "y = x"
   ]
  },
  {
   "cell_type": "code",
   "execution_count": 3,
   "id": "8ae98cc4-1185-4e58-84c0-c0a28f6436a3",
   "metadata": {},
   "outputs": [
    {
     "name": "stdout",
     "output_type": "stream",
     "text": [
      "[1, 2, 3, 4]\n"
     ]
    }
   ],
   "source": [
    "x.append(4) # adiciona 4 à lista apontada por x\n",
    "print(y) # a lista apontada por y é modificada também"
   ]
  },
  {
   "cell_type": "markdown",
   "id": "5c7b61cb-5a16-469b-a479-c2d461ac99e2",
   "metadata": {},
   "source": [
    "Observe também que se usarmos `=` para atribuir outro valor a x, isso não afetará o valor de y. A atribuição é simplesmente uma mudança de qual objeto a variável aponta:"
   ]
  },
  {
   "cell_type": "code",
   "execution_count": 4,
   "id": "70ae59f0-ce38-4e83-b952-c6bfbd9ab356",
   "metadata": {},
   "outputs": [
    {
     "name": "stdout",
     "output_type": "stream",
     "text": [
      "[1, 2, 3, 4]\n"
     ]
    }
   ],
   "source": [
    "x = 'alguma outra coisa'\n",
    "print(y)  # y não é alterada"
   ]
  },
  {
   "cell_type": "markdown",
   "id": "3213fdd9-9ca6-424f-9ff3-8cf1c3e6174b",
   "metadata": {},
   "source": [
    "Números, strings e outros *tipos simples* são imutáveis: não é possível alterar seu valor – só é possível alterar os valores para quais as variáveis apontam.\n",
    "Por exemplo:"
   ]
  },
  {
   "cell_type": "code",
   "execution_count": 6,
   "id": "a4b7218b-f3ba-4057-91f1-cfb831008f8b",
   "metadata": {},
   "outputs": [
    {
     "name": "stdout",
     "output_type": "stream",
     "text": [
      "x = 15\n",
      "y = 10\n"
     ]
    }
   ],
   "source": [
    "x = 10\n",
    "y = x\n",
    "x += 5  # adiciona 5 ao valor de x e atribui o valor à x\n",
    "print(\"x =\", x)\n",
    "print(\"y =\", y)"
   ]
  },
  {
   "cell_type": "markdown",
   "id": "f311806b-9a35-4a38-bb3c-637ef2ed8e08",
   "metadata": {},
   "source": [
    "## Tudo é um Objeto\n",
    "\n",
    "Python é uma linguagem de programação orientada a objetos, e em Python tudo é um objeto.\n",
    "\n",
    "Anteriormente, vimos que as variáveis são simplesmente ponteiros, e os próprios nomes das variáveis não têm informações de tipo anexadas.\n",
    "Porém, apesar de não declarado, o tipos existem."
   ]
  },
  {
   "cell_type": "code",
   "execution_count": 7,
   "id": "86072453-d72e-43a4-9224-01dc6bac0fda",
   "metadata": {},
   "outputs": [
    {
     "data": {
      "text/plain": [
       "int"
      ]
     },
     "execution_count": 7,
     "metadata": {},
     "output_type": "execute_result"
    }
   ],
   "source": [
    "x = 4\n",
    "type(x)"
   ]
  },
  {
   "cell_type": "code",
   "execution_count": 8,
   "id": "3658f024-f35e-40dd-b7dd-8cfb60ba8543",
   "metadata": {},
   "outputs": [
    {
     "data": {
      "text/plain": [
       "str"
      ]
     },
     "execution_count": 8,
     "metadata": {},
     "output_type": "execute_result"
    }
   ],
   "source": [
    "x = 'hello'\n",
    "type(x)"
   ]
  },
  {
   "cell_type": "code",
   "execution_count": 9,
   "id": "416a10e2-85e7-4f9e-9a22-c88034637ce9",
   "metadata": {},
   "outputs": [
    {
     "data": {
      "text/plain": [
       "float"
      ]
     },
     "execution_count": 9,
     "metadata": {},
     "output_type": "execute_result"
    }
   ],
   "source": [
    "x = 3.14159\n",
    "type(x)"
   ]
  },
  {
   "cell_type": "code",
   "execution_count": 10,
   "id": "93b3dd3f-0b2f-47ea-be2f-8a282007c250",
   "metadata": {},
   "outputs": [
    {
     "data": {
      "text/plain": [
       "bool"
      ]
     },
     "execution_count": 10,
     "metadata": {},
     "output_type": "execute_result"
    }
   ],
   "source": [
    "x = False\n",
    "type(x)"
   ]
  },
  {
   "cell_type": "markdown",
   "id": "3a5cb8ca-ffd8-48e0-a8ba-0e6f25dd0f5e",
   "metadata": {},
   "source": [
    "Python tem tipos; no entanto, os tipos estão vinculados não aos nomes das variáveis, mas aos próprios objetos.\n",
    "\n",
    "Em linguagens de programação orientadas a objetos como Python, um objeto é uma entidade que contém dados juntamente com metadados e/ou funcionalidades associadas. Em Python tudo é um objeto, o que significa que cada entidade tem alguns metadados (chamados atributos) e funcionalidades associadas (chamadas métodos). Esses atributos e métodos são acessados por meio da sintaxe de ponto.\n",
    "\n",
    "Por exemplo, antes vimos que as listas possuem um método append, que adiciona um item à lista e é acessado através da sintaxe de ponto (\"`.`\"):"
   ]
  },
  {
   "cell_type": "code",
   "execution_count": 11,
   "id": "5b539c96-2d0b-4a71-a002-90a749c89c28",
   "metadata": {},
   "outputs": [
    {
     "name": "stdout",
     "output_type": "stream",
     "text": [
      "[1, 2, 3, 100]\n"
     ]
    }
   ],
   "source": [
    "L = [1, 2, 3]\n",
    "L.append(100)\n",
    "print(L)"
   ]
  },
  {
   "cell_type": "markdown",
   "id": "64121e77-db4a-4907-b565-eeaa279a00e2",
   "metadata": {},
   "source": [
    "Embora seja esperado que objetos compostos como listas tenham atributos e métodos, o que às vezes é inesperado é que em Python mesmo tipos simples têm atributos e métodos anexados. Por exemplo, tipos numéricos têm um atributo `real` e `imag` que retorna a parte real e imaginária do valor, se visto como um número complexo:"
   ]
  },
  {
   "cell_type": "code",
   "execution_count": 12,
   "id": "45f352c2-21f0-40bb-ad2d-d8ca2cf59763",
   "metadata": {},
   "outputs": [
    {
     "name": "stdout",
     "output_type": "stream",
     "text": [
      "4.5 + 0.0 i\n"
     ]
    }
   ],
   "source": [
    "x = 4.5\n",
    "print(x.real, \"+\", x.imag, 'i')"
   ]
  },
  {
   "cell_type": "markdown",
   "id": "02fff1dd-98df-436a-8095-947f34fca7a3",
   "metadata": {},
   "source": [
    "Métodos são como atributos, exceto que são funções que você pode chamar usando parênteses. Por exemplo, números de ponto flutuante (float) têm um método chamado `is_integer` que verifica se o valor é um inteiro:"
   ]
  },
  {
   "cell_type": "code",
   "execution_count": 13,
   "id": "36d78b4b-ef63-4007-a738-51972ae4c000",
   "metadata": {},
   "outputs": [
    {
     "data": {
      "text/plain": [
       "False"
      ]
     },
     "execution_count": 13,
     "metadata": {},
     "output_type": "execute_result"
    }
   ],
   "source": [
    "x = 4.5\n",
    "x.is_integer()"
   ]
  },
  {
   "cell_type": "code",
   "execution_count": 14,
   "id": "5dd1fb95-eac4-4818-9dc6-6267560f29b4",
   "metadata": {},
   "outputs": [
    {
     "data": {
      "text/plain": [
       "True"
      ]
     },
     "execution_count": 14,
     "metadata": {},
     "output_type": "execute_result"
    }
   ],
   "source": [
    "x = 4.0\n",
    "x.is_integer()"
   ]
  },
  {
   "cell_type": "markdown",
   "id": "56d45903-cd9c-460b-9b5c-334b82526be5",
   "metadata": {},
   "source": [
    "Dizer que tudo em Python é um objeto, realmente realmente quer dizer que TUDO é um objeto – até mesmo os atributos e métodos dos objetos são objetos com suas próprias informações de tipo:"
   ]
  },
  {
   "cell_type": "code",
   "execution_count": 15,
   "id": "e7adc888-e91f-405b-9018-459938a30e7d",
   "metadata": {},
   "outputs": [
    {
     "data": {
      "text/plain": [
       "builtin_function_or_method"
      ]
     },
     "execution_count": 15,
     "metadata": {},
     "output_type": "execute_result"
    }
   ],
   "source": [
    "type(x.is_integer)"
   ]
  },
  {
   "cell_type": "code",
   "execution_count": null,
   "id": "2a771f81-2f0f-423e-ab1d-69bf3afe4c87",
   "metadata": {},
   "outputs": [],
   "source": [
    "<!--NAVIGATION-->\n",
    "| [IPython e Google Colab](aula0.ipynb) | [Semântica Básica de Python](aula2-1.ipynb) >"
   ]
  }
 ],
 "metadata": {
  "kernelspec": {
   "display_name": "Python 3 (ipykernel)",
   "language": "python",
   "name": "python3"
  },
  "language_info": {
   "codemirror_mode": {
    "name": "ipython",
    "version": 3
   },
   "file_extension": ".py",
   "mimetype": "text/x-python",
   "name": "python",
   "nbconvert_exporter": "python",
   "pygments_lexer": "ipython3",
   "version": "3.9.12"
  }
 },
 "nbformat": 4,
 "nbformat_minor": 5
}
